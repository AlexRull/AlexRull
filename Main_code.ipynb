{
 "cells": [
  {
   "cell_type": "code",
   "execution_count": 53,
   "id": "6d826cc2",
   "metadata": {},
   "outputs": [
    {
     "data": {
      "text/html": [
       "<div>\n",
       "<style scoped>\n",
       "    .dataframe tbody tr th:only-of-type {\n",
       "        vertical-align: middle;\n",
       "    }\n",
       "\n",
       "    .dataframe tbody tr th {\n",
       "        vertical-align: top;\n",
       "    }\n",
       "\n",
       "    .dataframe thead th {\n",
       "        text-align: right;\n",
       "    }\n",
       "</style>\n",
       "<table border=\"1\" class=\"dataframe\">\n",
       "  <thead>\n",
       "    <tr style=\"text-align: right;\">\n",
       "      <th></th>\n",
       "      <th>ids</th>\n",
       "      <th>gender</th>\n",
       "      <th>last_connection</th>\n",
       "      <th>x1</th>\n",
       "      <th>x2</th>\n",
       "      <th>x3</th>\n",
       "      <th>t1</th>\n",
       "      <th>t2</th>\n",
       "    </tr>\n",
       "  </thead>\n",
       "  <tbody>\n",
       "    <tr>\n",
       "      <th>0</th>\n",
       "      <td>1</td>\n",
       "      <td>F</td>\n",
       "      <td>2015-04-27</td>\n",
       "      <td>37.796189</td>\n",
       "      <td>292.189338</td>\n",
       "      <td>85.871732</td>\n",
       "      <td>1102.896732</td>\n",
       "      <td>1814.852022</td>\n",
       "    </tr>\n",
       "    <tr>\n",
       "      <th>1</th>\n",
       "      <td>2</td>\n",
       "      <td>M</td>\n",
       "      <td>2015-04-27</td>\n",
       "      <td>44.523437</td>\n",
       "      <td>294.989423</td>\n",
       "      <td>96.432040</td>\n",
       "      <td>1116.845895</td>\n",
       "      <td>1679.957691</td>\n",
       "    </tr>\n",
       "    <tr>\n",
       "      <th>2</th>\n",
       "      <td>3</td>\n",
       "      <td>F</td>\n",
       "      <td>2015-02-16</td>\n",
       "      <td>90.593723</td>\n",
       "      <td>298.219531</td>\n",
       "      <td>96.915476</td>\n",
       "      <td>1290.882244</td>\n",
       "      <td>1841.987889</td>\n",
       "    </tr>\n",
       "    <tr>\n",
       "      <th>3</th>\n",
       "      <td>4</td>\n",
       "      <td>M</td>\n",
       "      <td>2015-04-18</td>\n",
       "      <td>44.055440</td>\n",
       "      <td>303.041350</td>\n",
       "      <td>96.422230</td>\n",
       "      <td>1173.231390</td>\n",
       "      <td>1712.165400</td>\n",
       "    </tr>\n",
       "    <tr>\n",
       "      <th>4</th>\n",
       "      <td>5</td>\n",
       "      <td>F</td>\n",
       "      <td>2015-03-08</td>\n",
       "      <td>9.753165</td>\n",
       "      <td>298.005909</td>\n",
       "      <td>95.192099</td>\n",
       "      <td>1036.007131</td>\n",
       "      <td>1841.026590</td>\n",
       "    </tr>\n",
       "    <tr>\n",
       "      <th>...</th>\n",
       "      <td>...</td>\n",
       "      <td>...</td>\n",
       "      <td>...</td>\n",
       "      <td>...</td>\n",
       "      <td>...</td>\n",
       "      <td>...</td>\n",
       "      <td>...</td>\n",
       "      <td>...</td>\n",
       "    </tr>\n",
       "    <tr>\n",
       "      <th>9995</th>\n",
       "      <td>9996</td>\n",
       "      <td>F</td>\n",
       "      <td>2015-04-23</td>\n",
       "      <td>80.799213</td>\n",
       "      <td>301.576117</td>\n",
       "      <td>96.079032</td>\n",
       "      <td>1257.325411</td>\n",
       "      <td>1857.092524</td>\n",
       "    </tr>\n",
       "    <tr>\n",
       "      <th>9996</th>\n",
       "      <td>9997</td>\n",
       "      <td>M</td>\n",
       "      <td>2015-03-16</td>\n",
       "      <td>96.708871</td>\n",
       "      <td>308.761274</td>\n",
       "      <td>94.555557</td>\n",
       "      <td>1305.579678</td>\n",
       "      <td>1735.045096</td>\n",
       "    </tr>\n",
       "    <tr>\n",
       "      <th>9997</th>\n",
       "      <td>9998</td>\n",
       "      <td>M</td>\n",
       "      <td>2015-02-28</td>\n",
       "      <td>74.978155</td>\n",
       "      <td>293.047098</td>\n",
       "      <td>96.981146</td>\n",
       "      <td>1225.027722</td>\n",
       "      <td>1672.188392</td>\n",
       "    </tr>\n",
       "    <tr>\n",
       "      <th>9998</th>\n",
       "      <td>9999</td>\n",
       "      <td>M</td>\n",
       "      <td>2015-04-11</td>\n",
       "      <td>57.177898</td>\n",
       "      <td>306.430133</td>\n",
       "      <td>93.671787</td>\n",
       "      <td>1165.217414</td>\n",
       "      <td>1725.720533</td>\n",
       "    </tr>\n",
       "    <tr>\n",
       "      <th>9999</th>\n",
       "      <td>10000</td>\n",
       "      <td>M</td>\n",
       "      <td>2015-03-15</td>\n",
       "      <td>2.302216</td>\n",
       "      <td>309.076337</td>\n",
       "      <td>88.309902</td>\n",
       "      <td>1038.495687</td>\n",
       "      <td>1736.305346</td>\n",
       "    </tr>\n",
       "  </tbody>\n",
       "</table>\n",
       "<p>10000 rows × 8 columns</p>\n",
       "</div>"
      ],
      "text/plain": [
       "        ids gender last_connection         x1          x2         x3  \\\n",
       "0         1      F      2015-04-27  37.796189  292.189338  85.871732   \n",
       "1         2      M      2015-04-27  44.523437  294.989423  96.432040   \n",
       "2         3      F      2015-02-16  90.593723  298.219531  96.915476   \n",
       "3         4      M      2015-04-18  44.055440  303.041350  96.422230   \n",
       "4         5      F      2015-03-08   9.753165  298.005909  95.192099   \n",
       "...     ...    ...             ...        ...         ...        ...   \n",
       "9995   9996      F      2015-04-23  80.799213  301.576117  96.079032   \n",
       "9996   9997      M      2015-03-16  96.708871  308.761274  94.555557   \n",
       "9997   9998      M      2015-02-28  74.978155  293.047098  96.981146   \n",
       "9998   9999      M      2015-04-11  57.177898  306.430133  93.671787   \n",
       "9999  10000      M      2015-03-15   2.302216  309.076337  88.309902   \n",
       "\n",
       "               t1           t2  \n",
       "0     1102.896732  1814.852022  \n",
       "1     1116.845895  1679.957691  \n",
       "2     1290.882244  1841.987889  \n",
       "3     1173.231390  1712.165400  \n",
       "4     1036.007131  1841.026590  \n",
       "...           ...          ...  \n",
       "9995  1257.325411  1857.092524  \n",
       "9996  1305.579678  1735.045096  \n",
       "9997  1225.027722  1672.188392  \n",
       "9998  1165.217414  1725.720533  \n",
       "9999  1038.495687  1736.305346  \n",
       "\n",
       "[10000 rows x 8 columns]"
      ]
     },
     "execution_count": 53,
     "metadata": {},
     "output_type": "execute_result"
    }
   ],
   "source": [
    "import pandas as pd\n",
    "import numpy as np\n",
    "\n",
    "data = pd.read_excel('Main_data.xlsx', sheet_name='Dataset')\n",
    "\n",
    "data"
   ]
  },
  {
   "cell_type": "code",
   "execution_count": 54,
   "id": "540210b0",
   "metadata": {},
   "outputs": [
    {
     "name": "stdout",
     "output_type": "stream",
     "text": [
      "5410 - number of male observations\n",
      "4590 - number of female observations\n"
     ]
    }
   ],
   "source": [
    "# ----------------------- STEP 1 (FIELDS TYPES) -----------------------\n",
    "\n",
    "female_data = data.loc[data.gender == 'F']\n",
    "male_data = data.loc[data.gender == 'M']\n",
    "\n",
    "print('{} - number of male observations\\n{} - number of female observations'.format(male_data.shape[0], female_data.shape[0]))"
   ]
  },
  {
   "cell_type": "code",
   "execution_count": 57,
   "id": "b145edf1",
   "metadata": {},
   "outputs": [],
   "source": [
    "#male_r_t1 = np.corrcoef(male_data.x1, male_data.t1)\n",
    "#female_r_t1 = np.corrcoef(female_data.x1, female_data.t1)\n",
    "\n",
    "#male_r_t2 = np.corrcoef(male_data.x2, male_data.t2)\n",
    "#female_r_t2 = np.corrcoef(female_data.x2, female_data.t2)\n",
    "\n",
    "#print('{} : x1-t1 male correlation\\n{} : x1-t1 female correlation\\n{} : x2-t2 male correlation\\n{} : x2-t2 female correlation'.format(male_r_t1[0, 1], female_r_t1[0, 1], male_r_t2[0, 1], female_r_t2[0, 1]))\n",
    "\n",
    "#print(np.corrcoef(data.x2, data.t2)[0, 1])"
   ]
  },
  {
   "cell_type": "code",
   "execution_count": 58,
   "id": "889985ca",
   "metadata": {},
   "outputs": [
    {
     "data": {
      "text/html": [
       "<div>\n",
       "<style scoped>\n",
       "    .dataframe tbody tr th:only-of-type {\n",
       "        vertical-align: middle;\n",
       "    }\n",
       "\n",
       "    .dataframe tbody tr th {\n",
       "        vertical-align: top;\n",
       "    }\n",
       "\n",
       "    .dataframe thead th {\n",
       "        text-align: right;\n",
       "    }\n",
       "</style>\n",
       "<table border=\"1\" class=\"dataframe\">\n",
       "  <thead>\n",
       "    <tr style=\"text-align: right;\">\n",
       "      <th></th>\n",
       "      <th>ids</th>\n",
       "      <th>x1</th>\n",
       "      <th>x2</th>\n",
       "      <th>x3</th>\n",
       "      <th>t1</th>\n",
       "      <th>t2</th>\n",
       "    </tr>\n",
       "  </thead>\n",
       "  <tbody>\n",
       "    <tr>\n",
       "      <th>count</th>\n",
       "      <td>5410.000000</td>\n",
       "      <td>5410.000000</td>\n",
       "      <td>5410.000000</td>\n",
       "      <td>5410.000000</td>\n",
       "      <td>5410.000000</td>\n",
       "      <td>5410.000000</td>\n",
       "    </tr>\n",
       "    <tr>\n",
       "      <th>mean</th>\n",
       "      <td>5017.279852</td>\n",
       "      <td>50.718821</td>\n",
       "      <td>299.940918</td>\n",
       "      <td>94.949963</td>\n",
       "      <td>1176.748215</td>\n",
       "      <td>1699.763671</td>\n",
       "    </tr>\n",
       "    <tr>\n",
       "      <th>std</th>\n",
       "      <td>2891.990947</td>\n",
       "      <td>28.975917</td>\n",
       "      <td>9.923072</td>\n",
       "      <td>4.054037</td>\n",
       "      <td>118.462715</td>\n",
       "      <td>39.692289</td>\n",
       "    </tr>\n",
       "    <tr>\n",
       "      <th>min</th>\n",
       "      <td>2.000000</td>\n",
       "      <td>0.005516</td>\n",
       "      <td>264.463035</td>\n",
       "      <td>62.029833</td>\n",
       "      <td>897.883743</td>\n",
       "      <td>1557.852139</td>\n",
       "    </tr>\n",
       "    <tr>\n",
       "      <th>25%</th>\n",
       "      <td>2527.500000</td>\n",
       "      <td>25.705387</td>\n",
       "      <td>293.225563</td>\n",
       "      <td>92.872321</td>\n",
       "      <td>1086.945206</td>\n",
       "      <td>1672.902252</td>\n",
       "    </tr>\n",
       "    <tr>\n",
       "      <th>50%</th>\n",
       "      <td>5022.500000</td>\n",
       "      <td>50.681993</td>\n",
       "      <td>300.004781</td>\n",
       "      <td>95.890824</td>\n",
       "      <td>1180.600579</td>\n",
       "      <td>1700.019126</td>\n",
       "    </tr>\n",
       "    <tr>\n",
       "      <th>75%</th>\n",
       "      <td>7513.500000</td>\n",
       "      <td>76.242584</td>\n",
       "      <td>306.450471</td>\n",
       "      <td>97.997855</td>\n",
       "      <td>1265.167967</td>\n",
       "      <td>1725.801883</td>\n",
       "    </tr>\n",
       "    <tr>\n",
       "      <th>max</th>\n",
       "      <td>10000.000000</td>\n",
       "      <td>99.882303</td>\n",
       "      <td>338.360548</td>\n",
       "      <td>99.999098</td>\n",
       "      <td>1446.913473</td>\n",
       "      <td>1853.442191</td>\n",
       "    </tr>\n",
       "  </tbody>\n",
       "</table>\n",
       "</div>"
      ],
      "text/plain": [
       "                ids           x1           x2           x3           t1  \\\n",
       "count   5410.000000  5410.000000  5410.000000  5410.000000  5410.000000   \n",
       "mean    5017.279852    50.718821   299.940918    94.949963  1176.748215   \n",
       "std     2891.990947    28.975917     9.923072     4.054037   118.462715   \n",
       "min        2.000000     0.005516   264.463035    62.029833   897.883743   \n",
       "25%     2527.500000    25.705387   293.225563    92.872321  1086.945206   \n",
       "50%     5022.500000    50.681993   300.004781    95.890824  1180.600579   \n",
       "75%     7513.500000    76.242584   306.450471    97.997855  1265.167967   \n",
       "max    10000.000000    99.882303   338.360548    99.999098  1446.913473   \n",
       "\n",
       "                t2  \n",
       "count  5410.000000  \n",
       "mean   1699.763671  \n",
       "std      39.692289  \n",
       "min    1557.852139  \n",
       "25%    1672.902252  \n",
       "50%    1700.019126  \n",
       "75%    1725.801883  \n",
       "max    1853.442191  "
      ]
     },
     "execution_count": 58,
     "metadata": {},
     "output_type": "execute_result"
    }
   ],
   "source": [
    "male_data.describe()"
   ]
  },
  {
   "cell_type": "code",
   "execution_count": 59,
   "id": "179a8802",
   "metadata": {},
   "outputs": [
    {
     "data": {
      "text/html": [
       "<div>\n",
       "<style scoped>\n",
       "    .dataframe tbody tr th:only-of-type {\n",
       "        vertical-align: middle;\n",
       "    }\n",
       "\n",
       "    .dataframe tbody tr th {\n",
       "        vertical-align: top;\n",
       "    }\n",
       "\n",
       "    .dataframe thead th {\n",
       "        text-align: right;\n",
       "    }\n",
       "</style>\n",
       "<table border=\"1\" class=\"dataframe\">\n",
       "  <thead>\n",
       "    <tr style=\"text-align: right;\">\n",
       "      <th></th>\n",
       "      <th>ids</th>\n",
       "      <th>x1</th>\n",
       "      <th>x2</th>\n",
       "      <th>x3</th>\n",
       "      <th>t1</th>\n",
       "      <th>t2</th>\n",
       "    </tr>\n",
       "  </thead>\n",
       "  <tbody>\n",
       "    <tr>\n",
       "      <th>count</th>\n",
       "      <td>4590.000000</td>\n",
       "      <td>4590.000000</td>\n",
       "      <td>4590.000000</td>\n",
       "      <td>4590.000000</td>\n",
       "      <td>4590.000000</td>\n",
       "      <td>4590.000000</td>\n",
       "    </tr>\n",
       "    <tr>\n",
       "      <th>mean</th>\n",
       "      <td>4980.722440</td>\n",
       "      <td>49.298835</td>\n",
       "      <td>300.219160</td>\n",
       "      <td>95.180767</td>\n",
       "      <td>1172.633797</td>\n",
       "      <td>1850.986218</td>\n",
       "    </tr>\n",
       "    <tr>\n",
       "      <th>std</th>\n",
       "      <td>2881.068061</td>\n",
       "      <td>28.863625</td>\n",
       "      <td>9.848648</td>\n",
       "      <td>13.951933</td>\n",
       "      <td>119.005819</td>\n",
       "      <td>44.318918</td>\n",
       "    </tr>\n",
       "    <tr>\n",
       "      <th>min</th>\n",
       "      <td>1.000000</td>\n",
       "      <td>0.004004</td>\n",
       "      <td>264.602451</td>\n",
       "      <td>68.031595</td>\n",
       "      <td>898.016304</td>\n",
       "      <td>1690.711031</td>\n",
       "    </tr>\n",
       "    <tr>\n",
       "      <th>25%</th>\n",
       "      <td>2479.500000</td>\n",
       "      <td>23.627329</td>\n",
       "      <td>293.747708</td>\n",
       "      <td>93.094040</td>\n",
       "      <td>1082.289230</td>\n",
       "      <td>1821.864685</td>\n",
       "    </tr>\n",
       "    <tr>\n",
       "      <th>50%</th>\n",
       "      <td>4966.500000</td>\n",
       "      <td>48.829976</td>\n",
       "      <td>300.472336</td>\n",
       "      <td>95.889497</td>\n",
       "      <td>1170.499604</td>\n",
       "      <td>1852.125512</td>\n",
       "    </tr>\n",
       "    <tr>\n",
       "      <th>75%</th>\n",
       "      <td>7479.750000</td>\n",
       "      <td>74.378609</td>\n",
       "      <td>306.677204</td>\n",
       "      <td>97.993009</td>\n",
       "      <td>1262.870979</td>\n",
       "      <td>1880.047419</td>\n",
       "    </tr>\n",
       "    <tr>\n",
       "      <th>max</th>\n",
       "      <td>9996.000000</td>\n",
       "      <td>99.904798</td>\n",
       "      <td>339.416551</td>\n",
       "      <td>1000.000000</td>\n",
       "      <td>1449.617809</td>\n",
       "      <td>2027.374480</td>\n",
       "    </tr>\n",
       "  </tbody>\n",
       "</table>\n",
       "</div>"
      ],
      "text/plain": [
       "               ids           x1           x2           x3           t1  \\\n",
       "count  4590.000000  4590.000000  4590.000000  4590.000000  4590.000000   \n",
       "mean   4980.722440    49.298835   300.219160    95.180767  1172.633797   \n",
       "std    2881.068061    28.863625     9.848648    13.951933   119.005819   \n",
       "min       1.000000     0.004004   264.602451    68.031595   898.016304   \n",
       "25%    2479.500000    23.627329   293.747708    93.094040  1082.289230   \n",
       "50%    4966.500000    48.829976   300.472336    95.889497  1170.499604   \n",
       "75%    7479.750000    74.378609   306.677204    97.993009  1262.870979   \n",
       "max    9996.000000    99.904798   339.416551  1000.000000  1449.617809   \n",
       "\n",
       "                t2  \n",
       "count  4590.000000  \n",
       "mean   1850.986218  \n",
       "std      44.318918  \n",
       "min    1690.711031  \n",
       "25%    1821.864685  \n",
       "50%    1852.125512  \n",
       "75%    1880.047419  \n",
       "max    2027.374480  "
      ]
     },
     "execution_count": 59,
     "metadata": {},
     "output_type": "execute_result"
    }
   ],
   "source": [
    "female_data.describe()"
   ]
  },
  {
   "cell_type": "code",
   "execution_count": 60,
   "id": "039dfce4",
   "metadata": {},
   "outputs": [
    {
     "data": {
      "text/plain": [
       "ids                  0\n",
       "gender               0\n",
       "last_connection    100\n",
       "x1                   0\n",
       "x2                   0\n",
       "x3                   0\n",
       "t1                   0\n",
       "t2                   0\n",
       "dtype: int64"
      ]
     },
     "execution_count": 60,
     "metadata": {},
     "output_type": "execute_result"
    }
   ],
   "source": [
    "data.isnull().sum()"
   ]
  },
  {
   "cell_type": "code",
   "execution_count": 61,
   "id": "bc82e65d",
   "metadata": {},
   "outputs": [
    {
     "data": {
      "text/plain": [
       "ids                         int64\n",
       "gender                     object\n",
       "last_connection    datetime64[ns]\n",
       "x1                        float64\n",
       "x2                        float64\n",
       "x3                        float64\n",
       "t1                        float64\n",
       "t2                        float64\n",
       "dtype: object"
      ]
     },
     "execution_count": 61,
     "metadata": {},
     "output_type": "execute_result"
    }
   ],
   "source": [
    "data.dtypes"
   ]
  },
  {
   "cell_type": "code",
   "execution_count": 62,
   "id": "01b5bd10",
   "metadata": {},
   "outputs": [
    {
     "data": {
      "text/plain": [
       "<AxesSubplot:>"
      ]
     },
     "execution_count": 62,
     "metadata": {},
     "output_type": "execute_result"
    },
    {
     "data": {
      "image/png": "[encoded data removed]",
      "text/plain": [
       "<Figure size 432x288 with 1 Axes>"
      ]
     },
     "metadata": {
      "needs_background": "light"
     },
     "output_type": "display_data"
    }
   ],
   "source": [
    "data.boxplot(['x1', 'x2', 'x3'])"
   ]
  },
  {
   "cell_type": "code",
   "execution_count": 63,
   "id": "c82a9753",
   "metadata": {},
   "outputs": [
    {
     "data": {
      "text/plain": [
       "<AxesSubplot:>"
      ]
     },
     "execution_count": 63,
     "metadata": {},
     "output_type": "execute_result"
    },
    {
     "data": {
      "image/png": "[encoded data removed]",
      "text/plain": [
       "<Figure size 432x288 with 1 Axes>"
      ]
     },
     "metadata": {
      "needs_background": "light"
     },
     "output_type": "display_data"
    }
   ],
   "source": [
    "data_2 = data.drop(data[data.x3 == 1000].index)\n",
    "data_2.boxplot(['x2'])"
   ]
  },
  {
   "cell_type": "code",
   "execution_count": 64,
   "id": "6a068abc",
   "metadata": {},
   "outputs": [
    {
     "data": {
      "text/plain": [
       "<AxesSubplot:>"
      ]
     },
     "execution_count": 64,
     "metadata": {},
     "output_type": "execute_result"
    },
    {
     "data": {
      "image/png": "[encoded data removed]",
      "text/plain": [
       "<Figure size 432x288 with 1 Axes>"
      ]
     },
     "metadata": {
      "needs_background": "light"
     },
     "output_type": "display_data"
    }
   ],
   "source": [
    "data_2.boxplot(['x3'])"
   ]
  },
  {
   "cell_type": "code",
   "execution_count": 65,
   "id": "28cce4da",
   "metadata": {},
   "outputs": [
    {
     "data": {
      "text/plain": [
       "<AxesSubplot:>"
      ]
     },
     "execution_count": 65,
     "metadata": {},
     "output_type": "execute_result"
    },
    {
     "data": {
      "image/png": "[encoded data removed]",
      "text/plain": [
       "<Figure size 432x288 with 1 Axes>"
      ]
     },
     "metadata": {
      "needs_background": "light"
     },
     "output_type": "display_data"
    }
   ],
   "source": [
    "data.boxplot(['t1', 't2'])"
   ]
  },
  {
   "cell_type": "code",
   "execution_count": 66,
   "id": "22f02b76",
   "metadata": {},
   "outputs": [],
   "source": [
    "for x in ['x2']:\n",
    "    q_75, q_25 = np.percentile(data.loc[:, x], [75, 25])\n",
    "    IQR = q_75 - q_25\n",
    "\n",
    "    max_value = q_75 + (1.5 * IQR)\n",
    "    min_value = q_25 - (1.5 * IQR)\n",
    "\n",
    "    data.loc[data[x] < min_value, x] = np.nan\n",
    "    data.loc[data[x] > max_value, x] = np.nan"
   ]
  },
  {
   "cell_type": "code",
   "execution_count": 67,
   "id": "9d2b1cf8",
   "metadata": {},
   "outputs": [],
   "source": [
    "for x in ['x3']:\n",
    "    q_75, q_25 = np.percentile(data.loc[:, x], [75, 25])\n",
    "    IQR = q_75 - q_25\n",
    "\n",
    "    max_value = q_75 + (1.5 * IQR)\n",
    "    min_value = q_25 - (1.5 * IQR)\n",
    "\n",
    "    data.loc[data[x] < min_value, x] = np.nan\n",
    "    data.loc[data[x] > max_value, x] = np.nan"
   ]
  },
  {
   "cell_type": "code",
   "execution_count": 68,
   "id": "de1cb693",
   "metadata": {},
   "outputs": [
    {
     "data": {
      "text/plain": [
       "ids                  0\n",
       "gender               0\n",
       "last_connection    100\n",
       "x1                   0\n",
       "x2                  82\n",
       "x3                 323\n",
       "t1                   0\n",
       "t2                   0\n",
       "dtype: int64"
      ]
     },
     "execution_count": 68,
     "metadata": {},
     "output_type": "execute_result"
    }
   ],
   "source": [
    "data.isnull().sum()"
   ]
  },
  {
   "cell_type": "code",
   "execution_count": 69,
   "id": "453b583f",
   "metadata": {},
   "outputs": [
    {
     "data": {
      "text/plain": [
       "ids                0\n",
       "gender             0\n",
       "last_connection    0\n",
       "x1                 0\n",
       "x2                 0\n",
       "x3                 0\n",
       "t1                 0\n",
       "t2                 0\n",
       "dtype: int64"
      ]
     },
     "execution_count": 69,
     "metadata": {},
     "output_type": "execute_result"
    }
   ],
   "source": [
    "clear_data = data.dropna()\n",
    "clear_data.isnull().sum()"
   ]
  },
  {
   "cell_type": "code",
   "execution_count": 70,
   "id": "1e330ef9",
   "metadata": {},
   "outputs": [
    {
     "data": {
      "text/html": [
       "<div>\n",
       "<style scoped>\n",
       "    .dataframe tbody tr th:only-of-type {\n",
       "        vertical-align: middle;\n",
       "    }\n",
       "\n",
       "    .dataframe tbody tr th {\n",
       "        vertical-align: top;\n",
       "    }\n",
       "\n",
       "    .dataframe thead th {\n",
       "        text-align: right;\n",
       "    }\n",
       "</style>\n",
       "<table border=\"1\" class=\"dataframe\">\n",
       "  <thead>\n",
       "    <tr style=\"text-align: right;\">\n",
       "      <th></th>\n",
       "      <th>ids</th>\n",
       "      <th>gender</th>\n",
       "      <th>last_connection</th>\n",
       "      <th>x1</th>\n",
       "      <th>x2</th>\n",
       "      <th>x3</th>\n",
       "      <th>t1</th>\n",
       "      <th>t2</th>\n",
       "    </tr>\n",
       "  </thead>\n",
       "  <tbody>\n",
       "    <tr>\n",
       "      <th>0</th>\n",
       "      <td>1</td>\n",
       "      <td>F</td>\n",
       "      <td>2015-04-27</td>\n",
       "      <td>37.796189</td>\n",
       "      <td>292.189338</td>\n",
       "      <td>85.871732</td>\n",
       "      <td>1102.896732</td>\n",
       "      <td>1814.852022</td>\n",
       "    </tr>\n",
       "    <tr>\n",
       "      <th>1</th>\n",
       "      <td>2</td>\n",
       "      <td>M</td>\n",
       "      <td>2015-04-27</td>\n",
       "      <td>44.523437</td>\n",
       "      <td>294.989423</td>\n",
       "      <td>96.432040</td>\n",
       "      <td>1116.845895</td>\n",
       "      <td>1679.957691</td>\n",
       "    </tr>\n",
       "    <tr>\n",
       "      <th>2</th>\n",
       "      <td>3</td>\n",
       "      <td>F</td>\n",
       "      <td>2015-02-16</td>\n",
       "      <td>90.593723</td>\n",
       "      <td>298.219531</td>\n",
       "      <td>96.915476</td>\n",
       "      <td>1290.882244</td>\n",
       "      <td>1841.987889</td>\n",
       "    </tr>\n",
       "    <tr>\n",
       "      <th>3</th>\n",
       "      <td>4</td>\n",
       "      <td>M</td>\n",
       "      <td>2015-04-18</td>\n",
       "      <td>44.055440</td>\n",
       "      <td>303.041350</td>\n",
       "      <td>96.422230</td>\n",
       "      <td>1173.231390</td>\n",
       "      <td>1712.165400</td>\n",
       "    </tr>\n",
       "    <tr>\n",
       "      <th>4</th>\n",
       "      <td>5</td>\n",
       "      <td>F</td>\n",
       "      <td>2015-03-08</td>\n",
       "      <td>9.753165</td>\n",
       "      <td>298.005909</td>\n",
       "      <td>95.192099</td>\n",
       "      <td>1036.007131</td>\n",
       "      <td>1841.026590</td>\n",
       "    </tr>\n",
       "    <tr>\n",
       "      <th>...</th>\n",
       "      <td>...</td>\n",
       "      <td>...</td>\n",
       "      <td>...</td>\n",
       "      <td>...</td>\n",
       "      <td>...</td>\n",
       "      <td>...</td>\n",
       "      <td>...</td>\n",
       "      <td>...</td>\n",
       "    </tr>\n",
       "    <tr>\n",
       "      <th>9995</th>\n",
       "      <td>9996</td>\n",
       "      <td>F</td>\n",
       "      <td>2015-04-23</td>\n",
       "      <td>80.799213</td>\n",
       "      <td>301.576117</td>\n",
       "      <td>96.079032</td>\n",
       "      <td>1257.325411</td>\n",
       "      <td>1857.092524</td>\n",
       "    </tr>\n",
       "    <tr>\n",
       "      <th>9996</th>\n",
       "      <td>9997</td>\n",
       "      <td>M</td>\n",
       "      <td>2015-03-16</td>\n",
       "      <td>96.708871</td>\n",
       "      <td>308.761274</td>\n",
       "      <td>94.555557</td>\n",
       "      <td>1305.579678</td>\n",
       "      <td>1735.045096</td>\n",
       "    </tr>\n",
       "    <tr>\n",
       "      <th>9997</th>\n",
       "      <td>9998</td>\n",
       "      <td>M</td>\n",
       "      <td>2015-02-28</td>\n",
       "      <td>74.978155</td>\n",
       "      <td>293.047098</td>\n",
       "      <td>96.981146</td>\n",
       "      <td>1225.027722</td>\n",
       "      <td>1672.188392</td>\n",
       "    </tr>\n",
       "    <tr>\n",
       "      <th>9998</th>\n",
       "      <td>9999</td>\n",
       "      <td>M</td>\n",
       "      <td>2015-04-11</td>\n",
       "      <td>57.177898</td>\n",
       "      <td>306.430133</td>\n",
       "      <td>93.671787</td>\n",
       "      <td>1165.217414</td>\n",
       "      <td>1725.720533</td>\n",
       "    </tr>\n",
       "    <tr>\n",
       "      <th>9999</th>\n",
       "      <td>10000</td>\n",
       "      <td>M</td>\n",
       "      <td>2015-03-15</td>\n",
       "      <td>2.302216</td>\n",
       "      <td>309.076337</td>\n",
       "      <td>88.309902</td>\n",
       "      <td>1038.495687</td>\n",
       "      <td>1736.305346</td>\n",
       "    </tr>\n",
       "  </tbody>\n",
       "</table>\n",
       "<p>9507 rows × 8 columns</p>\n",
       "</div>"
      ],
      "text/plain": [
       "        ids gender last_connection         x1          x2         x3  \\\n",
       "0         1      F      2015-04-27  37.796189  292.189338  85.871732   \n",
       "1         2      M      2015-04-27  44.523437  294.989423  96.432040   \n",
       "2         3      F      2015-02-16  90.593723  298.219531  96.915476   \n",
       "3         4      M      2015-04-18  44.055440  303.041350  96.422230   \n",
       "4         5      F      2015-03-08   9.753165  298.005909  95.192099   \n",
       "...     ...    ...             ...        ...         ...        ...   \n",
       "9995   9996      F      2015-04-23  80.799213  301.576117  96.079032   \n",
       "9996   9997      M      2015-03-16  96.708871  308.761274  94.555557   \n",
       "9997   9998      M      2015-02-28  74.978155  293.047098  96.981146   \n",
       "9998   9999      M      2015-04-11  57.177898  306.430133  93.671787   \n",
       "9999  10000      M      2015-03-15   2.302216  309.076337  88.309902   \n",
       "\n",
       "               t1           t2  \n",
       "0     1102.896732  1814.852022  \n",
       "1     1116.845895  1679.957691  \n",
       "2     1290.882244  1841.987889  \n",
       "3     1173.231390  1712.165400  \n",
       "4     1036.007131  1841.026590  \n",
       "...           ...          ...  \n",
       "9995  1257.325411  1857.092524  \n",
       "9996  1305.579678  1735.045096  \n",
       "9997  1225.027722  1672.188392  \n",
       "9998  1165.217414  1725.720533  \n",
       "9999  1038.495687  1736.305346  \n",
       "\n",
       "[9507 rows x 8 columns]"
      ]
     },
     "execution_count": 70,
     "metadata": {},
     "output_type": "execute_result"
    }
   ],
   "source": [
    "clear_data"
   ]
  },
  {
   "cell_type": "code",
   "execution_count": 71,
   "id": "95dddaf7",
   "metadata": {},
   "outputs": [
    {
     "data": {
      "text/html": [
       "<div>\n",
       "<style scoped>\n",
       "    .dataframe tbody tr th:only-of-type {\n",
       "        vertical-align: middle;\n",
       "    }\n",
       "\n",
       "    .dataframe tbody tr th {\n",
       "        vertical-align: top;\n",
       "    }\n",
       "\n",
       "    .dataframe thead th {\n",
       "        text-align: right;\n",
       "    }\n",
       "</style>\n",
       "<table border=\"1\" class=\"dataframe\">\n",
       "  <thead>\n",
       "    <tr style=\"text-align: right;\">\n",
       "      <th></th>\n",
       "      <th>ids</th>\n",
       "      <th>x1</th>\n",
       "      <th>x2</th>\n",
       "      <th>x3</th>\n",
       "      <th>t1</th>\n",
       "      <th>t2</th>\n",
       "    </tr>\n",
       "  </thead>\n",
       "  <tbody>\n",
       "    <tr>\n",
       "      <th>count</th>\n",
       "      <td>9507.000000</td>\n",
       "      <td>9507.000000</td>\n",
       "      <td>9507.000000</td>\n",
       "      <td>9507.000000</td>\n",
       "      <td>9507.000000</td>\n",
       "      <td>9507.000000</td>\n",
       "    </tr>\n",
       "    <tr>\n",
       "      <th>mean</th>\n",
       "      <td>5000.213948</td>\n",
       "      <td>50.146657</td>\n",
       "      <td>300.061119</td>\n",
       "      <td>95.383469</td>\n",
       "      <td>1175.165706</td>\n",
       "      <td>1769.203379</td>\n",
       "    </tr>\n",
       "    <tr>\n",
       "      <th>std</th>\n",
       "      <td>2883.459176</td>\n",
       "      <td>28.944061</td>\n",
       "      <td>9.550066</td>\n",
       "      <td>3.323918</td>\n",
       "      <td>118.638738</td>\n",
       "      <td>85.672593</td>\n",
       "    </tr>\n",
       "    <tr>\n",
       "      <th>min</th>\n",
       "      <td>1.000000</td>\n",
       "      <td>0.004004</td>\n",
       "      <td>273.944837</td>\n",
       "      <td>85.537649</td>\n",
       "      <td>897.883743</td>\n",
       "      <td>1595.779347</td>\n",
       "    </tr>\n",
       "    <tr>\n",
       "      <th>25%</th>\n",
       "      <td>2509.500000</td>\n",
       "      <td>24.717666</td>\n",
       "      <td>293.451353</td>\n",
       "      <td>93.369237</td>\n",
       "      <td>1085.140073</td>\n",
       "      <td>1696.177099</td>\n",
       "    </tr>\n",
       "    <tr>\n",
       "      <th>50%</th>\n",
       "      <td>4996.000000</td>\n",
       "      <td>50.055395</td>\n",
       "      <td>300.236033</td>\n",
       "      <td>96.042558</td>\n",
       "      <td>1176.296465</td>\n",
       "      <td>1752.196752</td>\n",
       "    </tr>\n",
       "    <tr>\n",
       "      <th>75%</th>\n",
       "      <td>7495.500000</td>\n",
       "      <td>75.532542</td>\n",
       "      <td>306.505021</td>\n",
       "      <td>98.059589</td>\n",
       "      <td>1264.353742</td>\n",
       "      <td>1846.780449</td>\n",
       "    </tr>\n",
       "    <tr>\n",
       "      <th>max</th>\n",
       "      <td>10000.000000</td>\n",
       "      <td>99.904798</td>\n",
       "      <td>326.058156</td>\n",
       "      <td>99.999098</td>\n",
       "      <td>1449.617809</td>\n",
       "      <td>1967.261700</td>\n",
       "    </tr>\n",
       "  </tbody>\n",
       "</table>\n",
       "</div>"
      ],
      "text/plain": [
       "                ids           x1           x2           x3           t1  \\\n",
       "count   9507.000000  9507.000000  9507.000000  9507.000000  9507.000000   \n",
       "mean    5000.213948    50.146657   300.061119    95.383469  1175.165706   \n",
       "std     2883.459176    28.944061     9.550066     3.323918   118.638738   \n",
       "min        1.000000     0.004004   273.944837    85.537649   897.883743   \n",
       "25%     2509.500000    24.717666   293.451353    93.369237  1085.140073   \n",
       "50%     4996.000000    50.055395   300.236033    96.042558  1176.296465   \n",
       "75%     7495.500000    75.532542   306.505021    98.059589  1264.353742   \n",
       "max    10000.000000    99.904798   326.058156    99.999098  1449.617809   \n",
       "\n",
       "                t2  \n",
       "count  9507.000000  \n",
       "mean   1769.203379  \n",
       "std      85.672593  \n",
       "min    1595.779347  \n",
       "25%    1696.177099  \n",
       "50%    1752.196752  \n",
       "75%    1846.780449  \n",
       "max    1967.261700  "
      ]
     },
     "execution_count": 71,
     "metadata": {},
     "output_type": "execute_result"
    }
   ],
   "source": [
    "clear_data.describe()"
   ]
  },
  {
   "cell_type": "code",
   "execution_count": 72,
   "id": "da0a329a",
   "metadata": {},
   "outputs": [
    {
     "data": {
      "text/html": [
       "<div>\n",
       "<style scoped>\n",
       "    .dataframe tbody tr th:only-of-type {\n",
       "        vertical-align: middle;\n",
       "    }\n",
       "\n",
       "    .dataframe tbody tr th {\n",
       "        vertical-align: top;\n",
       "    }\n",
       "\n",
       "    .dataframe thead th {\n",
       "        text-align: right;\n",
       "    }\n",
       "</style>\n",
       "<table border=\"1\" class=\"dataframe\">\n",
       "  <thead>\n",
       "    <tr style=\"text-align: right;\">\n",
       "      <th></th>\n",
       "      <th>ids</th>\n",
       "      <th>x1</th>\n",
       "      <th>x2</th>\n",
       "      <th>x3</th>\n",
       "      <th>t1</th>\n",
       "      <th>t2</th>\n",
       "    </tr>\n",
       "  </thead>\n",
       "  <tbody>\n",
       "    <tr>\n",
       "      <th>count</th>\n",
       "      <td>10000.00000</td>\n",
       "      <td>10000.000000</td>\n",
       "      <td>9918.000000</td>\n",
       "      <td>9677.000000</td>\n",
       "      <td>10000.000000</td>\n",
       "      <td>10000.000000</td>\n",
       "    </tr>\n",
       "    <tr>\n",
       "      <th>mean</th>\n",
       "      <td>5000.50000</td>\n",
       "      <td>50.067047</td>\n",
       "      <td>300.053076</td>\n",
       "      <td>95.386725</td>\n",
       "      <td>1174.859697</td>\n",
       "      <td>1769.174820</td>\n",
       "    </tr>\n",
       "    <tr>\n",
       "      <th>std</th>\n",
       "      <td>2886.89568</td>\n",
       "      <td>28.931639</td>\n",
       "      <td>9.559790</td>\n",
       "      <td>3.322583</td>\n",
       "      <td>118.724074</td>\n",
       "      <td>86.214259</td>\n",
       "    </tr>\n",
       "    <tr>\n",
       "      <th>min</th>\n",
       "      <td>1.00000</td>\n",
       "      <td>0.004004</td>\n",
       "      <td>273.944837</td>\n",
       "      <td>85.537649</td>\n",
       "      <td>897.883743</td>\n",
       "      <td>1557.852139</td>\n",
       "    </tr>\n",
       "    <tr>\n",
       "      <th>25%</th>\n",
       "      <td>2500.75000</td>\n",
       "      <td>24.719006</td>\n",
       "      <td>293.434680</td>\n",
       "      <td>93.373773</td>\n",
       "      <td>1084.746402</td>\n",
       "      <td>1696.077169</td>\n",
       "    </tr>\n",
       "    <tr>\n",
       "      <th>50%</th>\n",
       "      <td>5000.50000</td>\n",
       "      <td>49.876050</td>\n",
       "      <td>300.218247</td>\n",
       "      <td>96.047764</td>\n",
       "      <td>1175.567545</td>\n",
       "      <td>1752.607393</td>\n",
       "    </tr>\n",
       "    <tr>\n",
       "      <th>75%</th>\n",
       "      <td>7500.25000</td>\n",
       "      <td>75.389142</td>\n",
       "      <td>306.499399</td>\n",
       "      <td>98.061169</td>\n",
       "      <td>1264.322678</td>\n",
       "      <td>1846.609079</td>\n",
       "    </tr>\n",
       "    <tr>\n",
       "      <th>max</th>\n",
       "      <td>10000.00000</td>\n",
       "      <td>99.904798</td>\n",
       "      <td>326.143815</td>\n",
       "      <td>99.999098</td>\n",
       "      <td>1449.617809</td>\n",
       "      <td>2027.374480</td>\n",
       "    </tr>\n",
       "  </tbody>\n",
       "</table>\n",
       "</div>"
      ],
      "text/plain": [
       "               ids            x1           x2           x3            t1  \\\n",
       "count  10000.00000  10000.000000  9918.000000  9677.000000  10000.000000   \n",
       "mean    5000.50000     50.067047   300.053076    95.386725   1174.859697   \n",
       "std     2886.89568     28.931639     9.559790     3.322583    118.724074   \n",
       "min        1.00000      0.004004   273.944837    85.537649    897.883743   \n",
       "25%     2500.75000     24.719006   293.434680    93.373773   1084.746402   \n",
       "50%     5000.50000     49.876050   300.218247    96.047764   1175.567545   \n",
       "75%     7500.25000     75.389142   306.499399    98.061169   1264.322678   \n",
       "max    10000.00000     99.904798   326.143815    99.999098   1449.617809   \n",
       "\n",
       "                 t2  \n",
       "count  10000.000000  \n",
       "mean    1769.174820  \n",
       "std       86.214259  \n",
       "min     1557.852139  \n",
       "25%     1696.077169  \n",
       "50%     1752.607393  \n",
       "75%     1846.609079  \n",
       "max     2027.374480  "
      ]
     },
     "execution_count": 72,
     "metadata": {},
     "output_type": "execute_result"
    }
   ],
   "source": [
    "data.describe()"
   ]
  },
  {
   "cell_type": "code",
   "execution_count": 73,
   "id": "e713b97e",
   "metadata": {},
   "outputs": [
    {
     "data": {
      "text/plain": [
       "[<matplotlib.lines.Line2D at 0x1f5c59d9b20>]"
      ]
     },
     "execution_count": 73,
     "metadata": {},
     "output_type": "execute_result"
    },
    {
     "data": {
      "image/png": "[encoded data removed]",
      "text/plain": [
       "<Figure size 648x216 with 3 Axes>"
      ]
     },
     "metadata": {
      "needs_background": "light"
     },
     "output_type": "display_data"
    }
   ],
   "source": [
    "import matplotlib.pyplot as plt\n",
    "\n",
    "plt.figure(figsize=(9, 3))\n",
    "plt.subplot(131)\n",
    "plt.plot(clear_data.x1, clear_data.t1)\n",
    "plt.subplot(132)\n",
    "plt.plot(clear_data.x2, clear_data.t1)\n",
    "plt.subplot(133)\n",
    "plt.plot(clear_data.x3, clear_data.t1)"
   ]
  },
  {
   "cell_type": "code",
   "execution_count": 74,
   "id": "5e09017e",
   "metadata": {},
   "outputs": [
    {
     "data": {
      "text/plain": [
       "[<matplotlib.lines.Line2D at 0x1f5c61cbe80>]"
      ]
     },
     "execution_count": 74,
     "metadata": {},
     "output_type": "execute_result"
    },
    {
     "data": {
      "image/png": "[encoded data removed]",
      "text/plain": [
       "<Figure size 648x216 with 3 Axes>"
      ]
     },
     "metadata": {
      "needs_background": "light"
     },
     "output_type": "display_data"
    }
   ],
   "source": [
    "plt.figure(figsize=(9, 3))\n",
    "plt.subplot(131)\n",
    "plt.plot(clear_data.x1, clear_data.t2)\n",
    "plt.subplot(132)\n",
    "plt.plot(clear_data.x2, clear_data.t2)\n",
    "plt.subplot(133)\n",
    "plt.plot(clear_data.x3, clear_data.t2)"
   ]
  },
  {
   "cell_type": "code",
   "execution_count": 75,
   "id": "14515abb",
   "metadata": {},
   "outputs": [
    {
     "name": "stdout",
     "output_type": "stream",
     "text": [
      "0.8602758326644383 : x1 - t1 correlation\n",
      "0.4874901396140681 : x2 - t2 correlation\n"
     ]
    }
   ],
   "source": [
    "clear_r_x2_t2 = np.corrcoef(clear_data.x2, clear_data.t2)\n",
    "clear_r_x1_t1 = np.corrcoef(clear_data.x1, clear_data.t1)\n",
    "print('{} : x1 - t1 correlation\\n{} : x2 - t2 correlation'.format(clear_r_x1_t1[0,1], clear_r_x2_t2[0, 1]))"
   ]
  },
  {
   "cell_type": "code",
   "execution_count": 110,
   "id": "3a0b34b4",
   "metadata": {},
   "outputs": [],
   "source": [
    "# ----------------------- STEP 2 (FINDING CORRELATIONS/MODELING) -----------------------\n",
    "\n",
    "# -------- X1 - T1 correlation --------\n",
    "\n",
    "from sklearn.linear_model import LinearRegression\n",
    "\n",
    "train_x1, train_t1 = clear_data.loc[:8000, 'x1'], clear_data.loc[:8000, 't1']\n",
    "test_x1, test_t1 = clear_data.loc[8000:, 'x1'], clear_data.loc[8000:, 't1']"
   ]
  },
  {
   "cell_type": "code",
   "execution_count": 135,
   "id": "10aa1f23",
   "metadata": {},
   "outputs": [
    {
     "name": "stdout",
     "output_type": "stream",
     "text": [
      "Regression formula: y = 3.515x + 999.044\n"
     ]
    }
   ],
   "source": [
    "regression_1 = LinearRegression()\n",
    "regression_1.fit(train_x1.to_frame(), train_t1.to_frame())\n",
    "\n",
    "print('Regression formula: y = {}x + {}'.format(round(regression_1.coef_[0][0], 3), round(regression_1.intercept_[0], 3)))"
   ]
  },
  {
   "cell_type": "code",
   "execution_count": 163,
   "id": "f5afce47",
   "metadata": {},
   "outputs": [
    {
     "data": {
      "text/html": [
       "<div>\n",
       "<style scoped>\n",
       "    .dataframe tbody tr th:only-of-type {\n",
       "        vertical-align: middle;\n",
       "    }\n",
       "\n",
       "    .dataframe tbody tr th {\n",
       "        vertical-align: top;\n",
       "    }\n",
       "\n",
       "    .dataframe thead th {\n",
       "        text-align: right;\n",
       "    }\n",
       "</style>\n",
       "<table border=\"1\" class=\"dataframe\">\n",
       "  <thead>\n",
       "    <tr style=\"text-align: right;\">\n",
       "      <th></th>\n",
       "      <th>Real value</th>\n",
       "      <th>Predicted value</th>\n",
       "      <th>Percentile error</th>\n",
       "    </tr>\n",
       "  </thead>\n",
       "  <tbody>\n",
       "    <tr>\n",
       "      <th>8000</th>\n",
       "      <td>1241.078019</td>\n",
       "      <td>1194.107651</td>\n",
       "      <td>3.785%</td>\n",
       "    </tr>\n",
       "    <tr>\n",
       "      <th>8001</th>\n",
       "      <td>1066.326735</td>\n",
       "      <td>1033.489427</td>\n",
       "      <td>3.079%</td>\n",
       "    </tr>\n",
       "    <tr>\n",
       "      <th>8002</th>\n",
       "      <td>1112.199456</td>\n",
       "      <td>1100.806784</td>\n",
       "      <td>1.024%</td>\n",
       "    </tr>\n",
       "    <tr>\n",
       "      <th>8003</th>\n",
       "      <td>1188.122408</td>\n",
       "      <td>1202.719818</td>\n",
       "      <td>1.229%</td>\n",
       "    </tr>\n",
       "    <tr>\n",
       "      <th>8004</th>\n",
       "      <td>1023.719536</td>\n",
       "      <td>1019.802472</td>\n",
       "      <td>0.383%</td>\n",
       "    </tr>\n",
       "    <tr>\n",
       "      <th>...</th>\n",
       "      <td>...</td>\n",
       "      <td>...</td>\n",
       "      <td>...</td>\n",
       "    </tr>\n",
       "    <tr>\n",
       "      <th>9995</th>\n",
       "      <td>1257.325411</td>\n",
       "      <td>1283.074067</td>\n",
       "      <td>2.048%</td>\n",
       "    </tr>\n",
       "    <tr>\n",
       "      <th>9996</th>\n",
       "      <td>1305.579678</td>\n",
       "      <td>1339.000554</td>\n",
       "      <td>2.56%</td>\n",
       "    </tr>\n",
       "    <tr>\n",
       "      <th>9997</th>\n",
       "      <td>1225.027722</td>\n",
       "      <td>1262.611566</td>\n",
       "      <td>3.068%</td>\n",
       "    </tr>\n",
       "    <tr>\n",
       "      <th>9998</th>\n",
       "      <td>1165.217414</td>\n",
       "      <td>1200.039144</td>\n",
       "      <td>2.988%</td>\n",
       "    </tr>\n",
       "    <tr>\n",
       "      <th>9999</th>\n",
       "      <td>1038.495687</td>\n",
       "      <td>1007.137178</td>\n",
       "      <td>3.02%</td>\n",
       "    </tr>\n",
       "  </tbody>\n",
       "</table>\n",
       "<p>1900 rows × 3 columns</p>\n",
       "</div>"
      ],
      "text/plain": [
       "       Real value  Predicted value Percentile error\n",
       "8000  1241.078019      1194.107651           3.785%\n",
       "8001  1066.326735      1033.489427           3.079%\n",
       "8002  1112.199456      1100.806784           1.024%\n",
       "8003  1188.122408      1202.719818           1.229%\n",
       "8004  1023.719536      1019.802472           0.383%\n",
       "...           ...              ...              ...\n",
       "9995  1257.325411      1283.074067           2.048%\n",
       "9996  1305.579678      1339.000554            2.56%\n",
       "9997  1225.027722      1262.611566           3.068%\n",
       "9998  1165.217414      1200.039144           2.988%\n",
       "9999  1038.495687      1007.137178            3.02%\n",
       "\n",
       "[1900 rows x 3 columns]"
      ]
     },
     "execution_count": 163,
     "metadata": {},
     "output_type": "execute_result"
    }
   ],
   "source": [
    "prediction_t1 = regression_1.predict(test_x1.to_frame())\n",
    "\n",
    "compare_data_1 = pd.DataFrame({'Real value': test_t1, 'Predicted value': prediction_t1.flatten()})\n",
    "\n",
    "percentile_error_1 = round(abs(compare_data_1['Real value'] - compare_data_1['Predicted value']) / compare_data_1['Real value'] * 100, 3)\n",
    "\n",
    "compare_data_1['Percentile error'] = percentile_error.astype(str) + '%'\n",
    "\n",
    "compare_data_1"
   ]
  },
  {
   "cell_type": "code",
   "execution_count": 164,
   "id": "90be8549",
   "metadata": {},
   "outputs": [
    {
     "data": {
      "text/plain": [
       "Maximum               11.571%\n",
       "Minimum                0.004%\n",
       "Mean                   4.502%\n",
       "Median                 4.431%\n",
       "Standard deviation     2.734%\n",
       "Name: Indicators, dtype: object"
      ]
     },
     "execution_count": 164,
     "metadata": {},
     "output_type": "execute_result"
    }
   ],
   "source": [
    "Indicators_1 = pd.Series([str(round(percentile_error.max(), 3)) + '%', str(round(percentile_error.min(), 3)) + '%', \n",
    "                        str(round(percentile_error.mean(), 3)) + '%', str(round(percentile_error.median(), 3)) + '%', \n",
    "                        str(round(percentile_error.std(), 3)) + '%'],\n",
    "                      index = ['Maximum', 'Minimum', 'Mean', 'Median', 'Standard deviation'], name = 'Indicators')\n",
    "\n",
    "Indicators_1"
   ]
  },
  {
   "cell_type": "code",
   "execution_count": 160,
   "id": "8b5fc6b5",
   "metadata": {},
   "outputs": [
    {
     "name": "stdout",
     "output_type": "stream",
     "text": [
      "Regression formula: y = 4.409x + 446.548\n"
     ]
    }
   ],
   "source": [
    "# -------- X2 - T2 correlation --------\n",
    "\n",
    "train_x2, train_t2 = clear_data.loc[:8000, 'x2'], clear_data.loc[:8000, 't2']\n",
    "test_x2, test_t2 = clear_data.loc[8000:, 'x2'], clear_data.loc[8000:, 't2']\n",
    "\n",
    "regression_2 = LinearRegression()\n",
    "regression_2.fit(train_x2.to_frame(), train_t2.to_frame())\n",
    "\n",
    "print('Regression formula: y = {}x + {}'.format(round(regression_2.coef_[0][0], 3), round(regression_2.intercept_[0], 3)))"
   ]
  },
  {
   "cell_type": "code",
   "execution_count": 165,
   "id": "a096517c",
   "metadata": {},
   "outputs": [
    {
     "data": {
      "text/html": [
       "<div>\n",
       "<style scoped>\n",
       "    .dataframe tbody tr th:only-of-type {\n",
       "        vertical-align: middle;\n",
       "    }\n",
       "\n",
       "    .dataframe tbody tr th {\n",
       "        vertical-align: top;\n",
       "    }\n",
       "\n",
       "    .dataframe thead th {\n",
       "        text-align: right;\n",
       "    }\n",
       "</style>\n",
       "<table border=\"1\" class=\"dataframe\">\n",
       "  <thead>\n",
       "    <tr style=\"text-align: right;\">\n",
       "      <th></th>\n",
       "      <th>Real value</th>\n",
       "      <th>Predicted value</th>\n",
       "      <th>Percentile error</th>\n",
       "    </tr>\n",
       "  </thead>\n",
       "  <tbody>\n",
       "    <tr>\n",
       "      <th>8000</th>\n",
       "      <td>1714.789202</td>\n",
       "      <td>1785.479753</td>\n",
       "      <td>4.122%</td>\n",
       "    </tr>\n",
       "    <tr>\n",
       "      <th>8001</th>\n",
       "      <td>1690.454328</td>\n",
       "      <td>1758.658025</td>\n",
       "      <td>4.035%</td>\n",
       "    </tr>\n",
       "    <tr>\n",
       "      <th>8002</th>\n",
       "      <td>1819.875598</td>\n",
       "      <td>1739.665503</td>\n",
       "      <td>4.407%</td>\n",
       "    </tr>\n",
       "    <tr>\n",
       "      <th>8003</th>\n",
       "      <td>1792.081500</td>\n",
       "      <td>1712.434871</td>\n",
       "      <td>4.444%</td>\n",
       "    </tr>\n",
       "    <tr>\n",
       "      <th>8004</th>\n",
       "      <td>1778.869259</td>\n",
       "      <td>1699.490481</td>\n",
       "      <td>4.462%</td>\n",
       "    </tr>\n",
       "    <tr>\n",
       "      <th>...</th>\n",
       "      <td>...</td>\n",
       "      <td>...</td>\n",
       "      <td>...</td>\n",
       "    </tr>\n",
       "    <tr>\n",
       "      <th>9995</th>\n",
       "      <td>1857.092524</td>\n",
       "      <td>1776.127937</td>\n",
       "      <td>4.36%</td>\n",
       "    </tr>\n",
       "    <tr>\n",
       "      <th>9996</th>\n",
       "      <td>1735.045096</td>\n",
       "      <td>1807.805658</td>\n",
       "      <td>4.194%</td>\n",
       "    </tr>\n",
       "    <tr>\n",
       "      <th>9997</th>\n",
       "      <td>1672.188392</td>\n",
       "      <td>1738.525437</td>\n",
       "      <td>3.967%</td>\n",
       "    </tr>\n",
       "    <tr>\n",
       "      <th>9998</th>\n",
       "      <td>1725.720533</td>\n",
       "      <td>1797.528190</td>\n",
       "      <td>4.161%</td>\n",
       "    </tr>\n",
       "    <tr>\n",
       "      <th>9999</th>\n",
       "      <td>1736.305346</td>\n",
       "      <td>1809.194697</td>\n",
       "      <td>4.198%</td>\n",
       "    </tr>\n",
       "  </tbody>\n",
       "</table>\n",
       "<p>1900 rows × 3 columns</p>\n",
       "</div>"
      ],
      "text/plain": [
       "       Real value  Predicted value Percentile error\n",
       "8000  1714.789202      1785.479753           4.122%\n",
       "8001  1690.454328      1758.658025           4.035%\n",
       "8002  1819.875598      1739.665503           4.407%\n",
       "8003  1792.081500      1712.434871           4.444%\n",
       "8004  1778.869259      1699.490481           4.462%\n",
       "...           ...              ...              ...\n",
       "9995  1857.092524      1776.127937            4.36%\n",
       "9996  1735.045096      1807.805658           4.194%\n",
       "9997  1672.188392      1738.525437           3.967%\n",
       "9998  1725.720533      1797.528190           4.161%\n",
       "9999  1736.305346      1809.194697           4.198%\n",
       "\n",
       "[1900 rows x 3 columns]"
      ]
     },
     "execution_count": 165,
     "metadata": {},
     "output_type": "execute_result"
    }
   ],
   "source": [
    "prediction_t2 = regression_2.predict(test_x2.to_frame())\n",
    "\n",
    "compare_data_2 = pd.DataFrame({'Real value': test_t2, 'Predicted value': prediction_t2.flatten()})\n",
    "\n",
    "percentile_error_2 = round(abs(compare_data_2['Real value'] - compare_data_2['Predicted value']) / compare_data_2['Real value'] * 100, 3)\n",
    "\n",
    "compare_data_2['Percentile error'] = percentile_error_2.astype(str) + '%'\n",
    "\n",
    "compare_data_2"
   ]
  },
  {
   "cell_type": "code",
   "execution_count": 166,
   "id": "9e4f4381",
   "metadata": {},
   "outputs": [
    {
     "data": {
      "text/plain": [
       "Maximum               4.526%\n",
       "Minimum                3.67%\n",
       "Mean                  4.203%\n",
       "Median                4.248%\n",
       "Standard deviation    0.187%\n",
       "Name: Indicators, dtype: object"
      ]
     },
     "execution_count": 166,
     "metadata": {},
     "output_type": "execute_result"
    }
   ],
   "source": [
    "Indicators_2 = pd.Series([str(round(percentile_error_2.max(), 3)) + '%', str(round(percentile_error_2.min(), 3)) + '%', \n",
    "                        str(round(percentile_error_2.mean(), 3)) + '%', str(round(percentile_error_2.median(), 3)) + '%', \n",
    "                        str(round(percentile_error_2.std(), 3)) + '%'],\n",
    "                      index = ['Maximum', 'Minimum', 'Mean', 'Median', 'Standard deviation'], name = 'Indicators')\n",
    "\n",
    "Indicators_2"
   ]
  },
  {
   "cell_type": "code",
   "execution_count": 191,
   "id": "8c367dc6",
   "metadata": {},
   "outputs": [
    {
     "data": {
      "image/png": "[encoded data removed]",
      "text/plain": [
       "<Figure size 432x288 with 1 Axes>"
      ]
     },
     "metadata": {
      "needs_background": "light"
     },
     "output_type": "display_data"
    }
   ],
   "source": [
    "plt.scatter(train_x1, train_t1,  color='yellow')\n",
    "plt.plot(test_x1, prediction_t1, color='blue', linewidth=2)\n",
    "plt.show()"
   ]
  },
  {
   "cell_type": "code",
   "execution_count": 192,
   "id": "d7df1a40",
   "metadata": {},
   "outputs": [
    {
     "data": {
      "image/png": "[encoded data removed]",
      "text/plain": [
       "<Figure size 432x288 with 1 Axes>"
      ]
     },
     "metadata": {
      "needs_background": "light"
     },
     "output_type": "display_data"
    }
   ],
   "source": [
    "plt.plot(train_x2, train_t2,  color='yellow')\n",
    "plt.plot(test_x2, prediction_t2, color='blue', linewidth=2)\n",
    "plt.show()"
   ]
  },
  {
   "cell_type": "code",
   "execution_count": 190,
   "id": "28fb19f8",
   "metadata": {},
   "outputs": [
    {
     "name": "stdout",
     "output_type": "stream",
     "text": [
      "0.86028 - correlation between x1 and t1\n",
      "0.00056 - correlation between x2 and t1\n",
      "0.01588 - correlation between x3 and t1\n",
      "-0.02799 - correlation between x1 and t2\n",
      "0.48749 - correlation between x2 and t2\n",
      "0.00709 - correlation between x3 and t2\n"
     ]
    }
   ],
   "source": [
    "correlation_1 = np.corrcoef(clear_data.x1, clear_data.t1)\n",
    "correlation_2 = np.corrcoef(clear_data.x2, clear_data.t1)\n",
    "correlation_3 = np.corrcoef(clear_data.x3, clear_data.t1)\n",
    "correlation_4 = np.corrcoef(clear_data.x1, clear_data.t2)\n",
    "correlation_5 = np.corrcoef(clear_data.x2, clear_data.t2)\n",
    "correlation_6 = np.corrcoef(clear_data.x3, clear_data.t2)\n",
    "\n",
    "print('{} - correlation between x1 and t1\\n{} - correlation between x2 and t1\\n\\\n",
    "{} - correlation between x3 and t1\\n{} - correlation between x1 and t2\\n\\\n",
    "{} - correlation between x2 and t2\\n{} - correlation between x3 and t2'.format\\\n",
    "      (round(correlation_1[0, 1], 5), round(correlation_2[0, 1], 5), round(correlation_3[0, 1], 5),\\\n",
    "       round(correlation_4[0, 1], 5), round(correlation_5[0, 1], 5), round(correlation_6[0, 1], 5)))"
   ]
  },
  {
   "cell_type": "code",
   "execution_count": null,
   "id": "33282e58",
   "metadata": {},
   "outputs": [],
   "source": []
  }
 ],
 "metadata": {
  "kernelspec": {
   "display_name": "Python 3 (ipykernel)",
   "language": "python",
   "name": "python3"
  },
  "language_info": {
   "codemirror_mode": {
    "name": "ipython",
    "version": 3
   },
   "file_extension": ".py",
   "mimetype": "text/x-python",
   "name": "python",
   "nbconvert_exporter": "python",
   "pygments_lexer": "ipython3",
   "version": "3.9.7"
  }
 },
 "nbformat": 4,
 "nbformat_minor": 5
}
